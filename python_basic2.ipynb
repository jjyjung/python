{
  "nbformat": 4,
  "nbformat_minor": 0,
  "metadata": {
    "kernelspec": {
      "display_name": "Python 3",
      "language": "python",
      "name": "python3"
    },
    "language_info": {
      "codemirror_mode": {
        "name": "ipython",
        "version": 3
      },
      "file_extension": ".py",
      "mimetype": "text/x-python",
      "name": "python",
      "nbconvert_exporter": "python",
      "pygments_lexer": "ipython3",
      "version": "3.7.6"
    },
    "colab": {
      "name": "python_basic2.ipynb",
      "provenance": [],
      "collapsed_sections": [],
      "include_colab_link": true
    }
  },
  "cells": [
    {
      "cell_type": "markdown",
      "metadata": {
        "id": "view-in-github",
        "colab_type": "text"
      },
      "source": [
        "<a href=\"https://colab.research.google.com/github/jjyjung/python/blob/gh-pages/python_basic2.ipynb\" target=\"_parent\"><img src=\"https://colab.research.google.com/assets/colab-badge.svg\" alt=\"Open In Colab\"/></a>"
      ]
    },
    {
      "cell_type": "markdown",
      "metadata": {
        "id": "8XkwYm6nit0K"
      },
      "source": [
        "## NumPy 패키지\n",
        "- 2005년 Travis Oliphant가 발표한 수치해석용 Python 패키지\n",
        "- 다차원 배열 자료구조 클래스인 ndarray 행렬(n-dimensional array) 지원 \n",
        "- 내부 반복문을 사용하여 빠른 배열 연산 지원\n",
        "- Scikit-learn 및 TensorFlow 등 여러 라이브러리에서 사용"
      ]
    },
    {
      "cell_type": "code",
      "metadata": {
        "id": "6YnwQY_Cit0M"
      },
      "source": [
        "import numpy as np\n",
        "# 패키지 임포트"
      ],
      "execution_count": 28,
      "outputs": []
    },
    {
      "cell_type": "code",
      "metadata": {
        "colab": {
          "base_uri": "https://localhost:8080/"
        },
        "id": "Cz9xU6Bait0N",
        "outputId": "194c73f0-e366-4082-8338-ac913a474048"
      },
      "source": [
        "# python의 List를 사용하는 경우\n",
        "x = [1,2,3,4,5]  #리스트 x\n",
        "y = []           #리스트 y\n",
        "for i in x:\n",
        "    y.append(i*2)\n",
        "print(y)"
      ],
      "execution_count": 29,
      "outputs": [
        {
          "output_type": "stream",
          "name": "stdout",
          "text": [
            "[2, 4, 6, 8, 10]\n"
          ]
        }
      ]
    },
    {
      "cell_type": "code",
      "metadata": {
        "colab": {
          "base_uri": "https://localhost:8080/"
        },
        "id": "8VgWpfCwHIv9",
        "outputId": "cbe2a13d-7b07-47a1-e82b-19a94365ba72"
      },
      "source": [
        "type(x)"
      ],
      "execution_count": 30,
      "outputs": [
        {
          "output_type": "execute_result",
          "data": {
            "text/plain": [
              "list"
            ]
          },
          "metadata": {},
          "execution_count": 30
        }
      ]
    },
    {
      "cell_type": "code",
      "metadata": {
        "scrolled": true,
        "colab": {
          "base_uri": "https://localhost:8080/"
        },
        "id": "jaGNAlTJit0O",
        "outputId": "916e9036-c441-4d6e-9dda-cc5a07eda38f"
      },
      "source": [
        "# numpy의 ndarray를 사용하는 경우 (간편, 빠름)\n",
        "a = np.array([1,2,3,4,5])  # list\n",
        "a = np.array({1,2,3,4,5})  # set\n",
        "a = np.array((1,2,3,4,5)])  # tuple\n",
        "a = np.array(x)  # ndarray a\n",
        "print(a)\n",
        "print(a*2)"
      ],
      "execution_count": 31,
      "outputs": [
        {
          "output_type": "stream",
          "name": "stdout",
          "text": [
            "[1 2 3 4 5]\n",
            "[ 2  4  6  8 10]\n"
          ]
        }
      ]
    },
    {
      "cell_type": "code",
      "metadata": {
        "colab": {
          "base_uri": "https://localhost:8080/"
        },
        "id": "-uGfy8ihHk6u",
        "outputId": "24b6af8e-364b-42a7-f639-5ac57806bbf9"
      },
      "source": [
        "type(a)"
      ],
      "execution_count": 32,
      "outputs": [
        {
          "output_type": "execute_result",
          "data": {
            "text/plain": [
              "numpy.ndarray"
            ]
          },
          "metadata": {},
          "execution_count": 32
        }
      ]
    },
    {
      "cell_type": "code",
      "metadata": {
        "scrolled": true,
        "colab": {
          "base_uri": "https://localhost:8080/"
        },
        "id": "q4WBDt9Xit0P",
        "outputId": "e1e4ac86-6760-4c62-ea05-04d84eeb76de"
      },
      "source": [
        "# 배열의 원소에 직접 연산처리 가능\n",
        "a1 = np.exp(a)  #nparray a1\n",
        "print(a1)\n",
        "a2 = np.log(a)\n",
        "print(a2)\n",
        "a3 = np.sin(a)\n",
        "print(a3)\n",
        "a4 = np.sqrt(a)\n",
        "print(a4)\n",
        "a4"
      ],
      "execution_count": 4,
      "outputs": [
        {
          "output_type": "stream",
          "name": "stdout",
          "text": [
            "[  2.71828183   7.3890561   20.08553692  54.59815003 148.4131591 ]\n",
            "[0.         0.69314718 1.09861229 1.38629436 1.60943791]\n",
            "[ 0.84147098  0.90929743  0.14112001 -0.7568025  -0.95892427]\n",
            "[1.         1.41421356 1.73205081 2.         2.23606798]\n"
          ]
        },
        {
          "output_type": "execute_result",
          "data": {
            "text/plain": [
              "array([1.        , 1.41421356, 1.73205081, 2.        , 2.23606798])"
            ]
          },
          "metadata": {},
          "execution_count": 4
        }
      ]
    },
    {
      "cell_type": "code",
      "metadata": {
        "id": "lCeKEOs_it0P"
      },
      "source": [
        ""
      ],
      "execution_count": 4,
      "outputs": []
    },
    {
      "cell_type": "code",
      "metadata": {
        "scrolled": true,
        "colab": {
          "base_uri": "https://localhost:8080/"
        },
        "id": "5wCxKEZZit0Q",
        "outputId": "9db4f56e-82a8-40da-f3d4-4268dd9fe3bd"
      },
      "source": [
        "b = np.array([[1,2,3],[4,5,6]])  #2차원 배열\n",
        "print(b)\n",
        "print(b[0])\n",
        "print(b[1])\n",
        "print(b[0][0])\n",
        "print(b[1][1])\n",
        "print(len(b))\n",
        "print(len(b[0]))"
      ],
      "execution_count": 33,
      "outputs": [
        {
          "output_type": "stream",
          "name": "stdout",
          "text": [
            "[[1 2 3]\n",
            " [4 5 6]]\n",
            "[1 2 3]\n",
            "[4 5 6]\n",
            "1\n",
            "5\n",
            "2\n",
            "3\n"
          ]
        }
      ]
    },
    {
      "cell_type": "code",
      "metadata": {
        "colab": {
          "base_uri": "https://localhost:8080/"
        },
        "id": "7we3u39Ki-Fr",
        "outputId": "bc6b7854-f071-40a0-d179-245c2a1875fa"
      },
      "source": [
        "print(b[1:,0:2])"
      ],
      "execution_count": 6,
      "outputs": [
        {
          "output_type": "stream",
          "name": "stdout",
          "text": [
            "[[4 5]]\n"
          ]
        }
      ]
    },
    {
      "cell_type": "code",
      "metadata": {
        "id": "FM8lg5KzQ_5x"
      },
      "source": [
        "d3 = [[[7,1],[9,4],[2,3]], [[4,4],[0,0],[8,0]], \n",
        "      [[5,7],[0,0],[8,0]], [[6,6],[0,0],[8,0]]]"
      ],
      "execution_count": 65,
      "outputs": []
    },
    {
      "cell_type": "code",
      "metadata": {
        "colab": {
          "base_uri": "https://localhost:8080/"
        },
        "id": "0_HmZgGER9_K",
        "outputId": "99a7e386-994b-49fa-f4c5-293cb0e33487"
      },
      "source": [
        "print(d3[2])\n",
        "print(d3[2][0])\n",
        "print(d3[2][0][1])"
      ],
      "execution_count": 69,
      "outputs": [
        {
          "output_type": "stream",
          "name": "stdout",
          "text": [
            "[[5, 7], [0, 0], [8, 0]]\n",
            "[5, 7]\n",
            "7\n"
          ]
        }
      ]
    },
    {
      "cell_type": "code",
      "metadata": {
        "colab": {
          "base_uri": "https://localhost:8080/"
        },
        "id": "LRuvaS3GRfBr",
        "outputId": "c7b53ea0-a81a-4577-8cdc-419ac1d429b5"
      },
      "source": [
        "np.shape(d3)"
      ],
      "execution_count": 62,
      "outputs": [
        {
          "output_type": "execute_result",
          "data": {
            "text/plain": [
              "(4, 3, 2)"
            ]
          },
          "metadata": {},
          "execution_count": 62
        }
      ]
    },
    {
      "cell_type": "code",
      "metadata": {
        "colab": {
          "base_uri": "https://localhost:8080/"
        },
        "id": "d0UUvvh9RxLm",
        "outputId": "6f6008a8-7a0f-4343-ed09-6001c39022d6"
      },
      "source": [
        "np.shape(b)"
      ],
      "execution_count": 63,
      "outputs": [
        {
          "output_type": "execute_result",
          "data": {
            "text/plain": [
              "(2, 3)"
            ]
          },
          "metadata": {},
          "execution_count": 63
        }
      ]
    },
    {
      "cell_type": "code",
      "metadata": {
        "colab": {
          "base_uri": "https://localhost:8080/"
        },
        "id": "81YWfiEQit0Q",
        "outputId": "c5b431bb-9459-4f68-e946-54390337e4fa"
      },
      "source": [
        "c = np.array([[[1,1,1],[2,2,2],[3,3,3]],  #3차원 배열\n",
        "             [[4,4,4],[5,5,5],[6,6,6]],\n",
        "             [[7,7,7],[8,8,8],[9,9,9]]])\n",
        "print(c[0][0][0])\n",
        "print(c[1][2][2])\n",
        "print(c[2][0][1])"
      ],
      "execution_count": 7,
      "outputs": [
        {
          "output_type": "stream",
          "name": "stdout",
          "text": [
            "1\n",
            "6\n",
            "7\n"
          ]
        }
      ]
    },
    {
      "cell_type": "code",
      "metadata": {
        "scrolled": true,
        "colab": {
          "base_uri": "https://localhost:8080/"
        },
        "id": "1sbUWrwjit0R",
        "outputId": "91e35b65-65e0-4419-f306-7307596a54ce"
      },
      "source": [
        "print(type(a))\n",
        "print(a.ndim)\n",
        "print(b.ndim)\n",
        "print(c.ndim)\n",
        "print(a.shape)\n",
        "print(b.shape)\n",
        "print(c.shape)"
      ],
      "execution_count": 8,
      "outputs": [
        {
          "output_type": "stream",
          "name": "stdout",
          "text": [
            "<class 'numpy.ndarray'>\n",
            "1\n",
            "2\n",
            "3\n",
            "(5,)\n",
            "(2, 3)\n",
            "(3, 3, 3)\n"
          ]
        }
      ]
    },
    {
      "cell_type": "code",
      "metadata": {
        "scrolled": true,
        "colab": {
          "base_uri": "https://localhost:8080/"
        },
        "id": "_wN0mYSQit0R",
        "outputId": "aa1891d3-941a-468a-d4f1-cd1518b98c07"
      },
      "source": [
        "b = np.array([[1,2,3],[4,5,6]])\n",
        "print(b[0][1])\n",
        "print(b[1])\n",
        "print(b[1,:])  #2행 슬라이싱\n",
        "print(b[1,0:2])  #2행 슬라이싱\n",
        "print(b[0:2,1])  #2열 슬라이싱"
      ],
      "execution_count": 9,
      "outputs": [
        {
          "output_type": "stream",
          "name": "stdout",
          "text": [
            "2\n",
            "[4 5 6]\n",
            "[4 5 6]\n",
            "[4 5]\n",
            "[2 5]\n"
          ]
        }
      ]
    },
    {
      "cell_type": "code",
      "metadata": {
        "scrolled": true,
        "colab": {
          "base_uri": "https://localhost:8080/"
        },
        "id": "xxqVP9dtit0S",
        "outputId": "cd87fde0-b40c-4854-fcf0-0a005b9c1ff9"
      },
      "source": [
        "c = np.array([[[1,1,1],[2,2,2],[3,3,3]],\n",
        "             [[4,4,4],[5,5,5],[6,6,6]],\n",
        "             [[7,7,7],[8,8,8],[9,9,9]]])\n",
        "print(c[1,1,:])\n",
        "print(c[0:2,0:2,:])\n",
        "print(c[0:2,0:2,1:3])  #부분 다차원배열 슬라이싱"
      ],
      "execution_count": 10,
      "outputs": [
        {
          "output_type": "stream",
          "name": "stdout",
          "text": [
            "[5 5 5]\n",
            "[[[1 1 1]\n",
            "  [2 2 2]]\n",
            "\n",
            " [[4 4 4]\n",
            "  [5 5 5]]]\n",
            "[[[1 1]\n",
            "  [2 2]]\n",
            "\n",
            " [[4 4]\n",
            "  [5 5]]]\n"
          ]
        }
      ]
    },
    {
      "cell_type": "code",
      "metadata": {
        "id": "Ml4Ai3xHL-Xg"
      },
      "source": [
        "a = np.array([[1,2,3],[4,3]])\n"
      ],
      "execution_count": null,
      "outputs": []
    },
    {
      "cell_type": "code",
      "metadata": {
        "colab": {
          "base_uri": "https://localhost:8080/"
        },
        "id": "gK6HYJU7MHD2",
        "outputId": "9fbaa9a5-a0a0-4669-e886-5ff9924202d9"
      },
      "source": [
        "a[0][1]"
      ],
      "execution_count": 41,
      "outputs": [
        {
          "output_type": "execute_result",
          "data": {
            "text/plain": [
              "2"
            ]
          },
          "metadata": {},
          "execution_count": 41
        }
      ]
    },
    {
      "cell_type": "code",
      "metadata": {
        "scrolled": true,
        "colab": {
          "base_uri": "https://localhost:8080/"
        },
        "id": "xGP06pncit0S",
        "outputId": "accb9ce2-51b5-4464-f1da-bb69c8e6ea89"
      },
      "source": [
        "# 배열의 index 선별하는 방법들\n",
        "a = np.array([1,2,3,4,3])\n",
        "i = np.array([True,True,True,False,False])  #boolean으로 index 선별\n",
        "print(\"a[i]=\",a[i])\n",
        "j = np.array([0,1,2])  #index로 직접 선별\n",
        "print(\"a[j]=\",a[j]) \n",
        "print(\"a[[0,1,2]]=\",a[[0,1,2]]) \n",
        "#print(a[0,1,2]) \n",
        "\n",
        "print(a%2==0)\n",
        "print(a[a%2==0])     #조건으로 index 선별\n",
        "print(a[a>2])"
      ],
      "execution_count": 36,
      "outputs": [
        {
          "output_type": "stream",
          "name": "stdout",
          "text": [
            "a[i]= [1 2 3]\n",
            "a[j]= [1 2 3]\n",
            "a[[0,1,2]]= [1 2 3]\n",
            "[False  True False  True False]\n",
            "[2 4]\n",
            "[3 4 3]\n"
          ]
        }
      ]
    },
    {
      "cell_type": "code",
      "metadata": {
        "colab": {
          "base_uri": "https://localhost:8080/"
        },
        "id": "_P5lee20MgMN",
        "outputId": "95531c7e-a18e-4bd2-aa4a-3fcbfea77b60"
      },
      "source": [
        "for i in range(1,6):\n",
        "  print(i, end=\"-\")"
      ],
      "execution_count": 44,
      "outputs": [
        {
          "output_type": "stream",
          "name": "stdout",
          "text": [
            "1-2-3-4-5-"
          ]
        }
      ]
    },
    {
      "cell_type": "code",
      "metadata": {
        "colab": {
          "base_uri": "https://localhost:8080/"
        },
        "id": "VzhDVqrKMveW",
        "outputId": "7d2011f4-13fa-4860-b2dd-e40b498bd8aa"
      },
      "source": [
        "(0,1)"
      ],
      "execution_count": 47,
      "outputs": [
        {
          "output_type": "execute_result",
          "data": {
            "text/plain": [
              "dtype('float64')"
            ]
          },
          "metadata": {},
          "execution_count": 47
        }
      ]
    },
    {
      "cell_type": "code",
      "metadata": {
        "colab": {
          "base_uri": "https://localhost:8080/"
        },
        "id": "c4FQ20dhNdqc",
        "outputId": "ce6179e5-9125-4acf-e91c-90671faccf45"
      },
      "source": [
        "rd = a4*1000\n",
        "rd "
      ],
      "execution_count": 52,
      "outputs": [
        {
          "output_type": "execute_result",
          "data": {
            "text/plain": [
              "array([947.11953991, 617.65997711, 368.87484168, 611.97703905,\n",
              "       206.13153629])"
            ]
          },
          "metadata": {},
          "execution_count": 52
        }
      ]
    },
    {
      "cell_type": "code",
      "metadata": {
        "scrolled": true,
        "colab": {
          "base_uri": "https://localhost:8080/"
        },
        "id": "zG1nImsOit0T",
        "outputId": "980848a6-797d-4f58-9910-6734aa9272dc"
      },
      "source": [
        "a1 = np.arange(5)  #5미만 정수 순서대로 생성\n",
        "print(a1)\n",
        "a2 = np.arange(1,6)  #1부터 6미만 정수 순서대로 생성\n",
        "print(a2)\n",
        "a3 = np.arange(5.0)  #5미만 실수형 정수 순서대로 생성\n",
        "print(a3)\n",
        "a4 = np.random.rand(5) #[0,1)구간의 임의의 난수(random variable) 5개 생성\n",
        "print(a4)\n",
        "a5 = np.random.rand(3,4) #3*4 shape로 생성\n",
        "print(a5)\n",
        "a6 = np.random.rand(2,2,2) #2*2*2 shape로 생성\n",
        "print(a6)\n",
        "a7 = np.random.randn(5)  # 표준정규분포(standard normal distribution)\n",
        "print(a7)"
      ],
      "execution_count": 74,
      "outputs": [
        {
          "output_type": "stream",
          "name": "stdout",
          "text": [
            "[0 1 2 3 4]\n",
            "[1 2 3 4 5]\n",
            "[0. 1. 2. 3. 4.]\n",
            "[0.20217439 0.92936249 0.88456569 0.35705913 0.32179607]\n",
            "[[0.12700558 0.82782072 0.28528103 0.78195982]\n",
            " [0.27374645 0.5081308  0.86644278 0.87266389]\n",
            " [0.89563579 0.36867279 0.87143212 0.59075054]]\n",
            "[[[0.77006312 0.33523831]\n",
            "  [0.1341989  0.62900661]]\n",
            "\n",
            " [[0.21841864 0.80679463]\n",
            "  [0.45435615 0.8452714 ]]]\n",
            "[-0.52366829  0.86271094  1.23007491  0.65503015  1.5371425 ]\n",
            "2\n"
          ]
        }
      ]
    },
    {
      "cell_type": "code",
      "metadata": {
        "id": "IFdhEzHpQ-B9"
      },
      "source": [
        ""
      ],
      "execution_count": null,
      "outputs": []
    },
    {
      "cell_type": "code",
      "metadata": {
        "colab": {
          "base_uri": "https://localhost:8080/"
        },
        "id": "EzC97ld6it0T",
        "outputId": "fc565514-cead-459e-e531-a4e322840e41"
      },
      "source": [
        "a8 = np.random.randn(10)  # 표준정규분포(standard normal distribution)\n",
        "print(a8)\n",
        "print(a8.mean())\n",
        "print(np.mean(a8))\n",
        "print(a8.sum())\n",
        "print(a8.std())\n",
        "print(a8.max())\n",
        "print(a8.min())\n",
        "print(np.sort(a8))\n",
        "print(-np.sort(-a8))"
      ],
      "execution_count": 75,
      "outputs": [
        {
          "output_type": "stream",
          "name": "stdout",
          "text": [
            "[ 0.95241091  1.30515827 -2.78357597 -0.77912696  0.11587679 -0.96905842\n",
            " -1.06861872 -0.0615628   1.24060027 -0.70328684]\n",
            "-0.2751183471984348\n",
            "-0.2751183471984348\n",
            "-2.751183471984348\n",
            "1.1975348270095927\n",
            "1.3051582704501192\n",
            "-2.783575972015\n",
            "[-2.78357597 -1.06861872 -0.96905842 -0.77912696 -0.70328684 -0.0615628\n",
            "  0.11587679  0.95241091  1.24060027  1.30515827]\n",
            "[ 1.30515827  1.24060027  0.95241091  0.11587679 -0.0615628  -0.70328684\n",
            " -0.77912696 -0.96905842 -1.06861872 -2.78357597]\n"
          ]
        }
      ]
    },
    {
      "cell_type": "code",
      "metadata": {
        "scrolled": true,
        "colab": {
          "base_uri": "https://localhost:8080/"
        },
        "id": "uLheKYBNit0U",
        "outputId": "bbf06cf8-265a-4982-8367-7a95c6e5b28e"
      },
      "source": [
        "d = np.empty((8,4))\n",
        "print(d)\n",
        "\n",
        "for i in range(8):\n",
        "    d[i] = i\n",
        "print(d)\n",
        "\n",
        "e = np.empty((8,4))\n",
        "for i in range(8):\n",
        "    for j in range(4):\n",
        "        e[i][j] = i*j\n",
        "print(e)"
      ],
      "execution_count": 14,
      "outputs": [
        {
          "output_type": "stream",
          "name": "stdout",
          "text": [
            "[[4.67767871e-310 1.01283457e-321 0.00000000e+000 0.00000000e+000]\n",
            " [0.00000000e+000 2.14027814e+161 1.47762371e+248 4.30625279e-096]\n",
            " [1.12855837e+277 8.93168725e+271 4.76484771e+180 1.04918677e-153]\n",
            " [5.23081515e-143 8.60535822e-067 2.76875374e-057 1.74456824e-076]\n",
            " [1.65583348e-047 1.11475752e+261 1.16318408e-028 1.04914792e-153]\n",
            " [9.08366793e+223 5.78736056e+174 3.53994311e-033 6.22690503e-038]\n",
            " [2.68089400e-032 2.59027907e-144 2.59903818e-144 7.72819855e-091]\n",
            " [1.48778638e-076 3.69553143e-033 2.65534222e-312 0.00000000e+000]]\n",
            "[[0. 0. 0. 0.]\n",
            " [1. 1. 1. 1.]\n",
            " [2. 2. 2. 2.]\n",
            " [3. 3. 3. 3.]\n",
            " [4. 4. 4. 4.]\n",
            " [5. 5. 5. 5.]\n",
            " [6. 6. 6. 6.]\n",
            " [7. 7. 7. 7.]]\n",
            "[[ 0.  0.  0.  0.]\n",
            " [ 0.  1.  2.  3.]\n",
            " [ 0.  2.  4.  6.]\n",
            " [ 0.  3.  6.  9.]\n",
            " [ 0.  4.  8. 12.]\n",
            " [ 0.  5. 10. 15.]\n",
            " [ 0.  6. 12. 18.]\n",
            " [ 0.  7. 14. 21.]]\n"
          ]
        }
      ]
    },
    {
      "cell_type": "code",
      "metadata": {
        "scrolled": true,
        "colab": {
          "base_uri": "https://localhost:8080/"
        },
        "id": "sBFTjzfdit0V",
        "outputId": "18d69ac0-d4fb-4f1d-fd29-080a1c422736"
      },
      "source": [
        "print(e[2])   \n",
        "print(e[1:5])   #3행,7행,5행\n",
        "print(e[[1,5]])   #3행,7행,5행\n",
        "print(e[[2,6,4]])   #3행,7행,5행\n",
        "\n",
        "print(e[2,1])   #3행,7행,5행\n",
        "print(e[2,1:3])   #3행,7행,5행\n",
        "print(e[2,[1,3]])   #3행,7행,5행\n",
        "print(e[[1,3],[3,1]])   #4열,2열"
      ],
      "execution_count": 15,
      "outputs": [
        {
          "output_type": "stream",
          "name": "stdout",
          "text": [
            "[0. 2. 4. 6.]\n",
            "[[ 0.  1.  2.  3.]\n",
            " [ 0.  2.  4.  6.]\n",
            " [ 0.  3.  6.  9.]\n",
            " [ 0.  4.  8. 12.]]\n",
            "[[ 0.  1.  2.  3.]\n",
            " [ 0.  5. 10. 15.]]\n",
            "[[ 0.  2.  4.  6.]\n",
            " [ 0.  6. 12. 18.]\n",
            " [ 0.  4.  8. 12.]]\n",
            "2.0\n",
            "[2. 4.]\n",
            "[2. 6.]\n",
            "[3. 3.]\n"
          ]
        }
      ]
    },
    {
      "cell_type": "code",
      "metadata": {
        "scrolled": true,
        "colab": {
          "base_uri": "https://localhost:8080/"
        },
        "id": "Z7OMwJaDit0V",
        "outputId": "e63dd7a2-2bd6-4fea-cb1e-552c7f0961de"
      },
      "source": [
        "f = np.arange(15)  #\n",
        "print(f)\n",
        "f = np.arange(15).reshape((3,5))  #\n",
        "print(f)\n",
        "print(f.T)  #transpose (전치행렬)"
      ],
      "execution_count": 16,
      "outputs": [
        {
          "output_type": "stream",
          "name": "stdout",
          "text": [
            "[ 0  1  2  3  4  5  6  7  8  9 10 11 12 13 14]\n",
            "[[ 0  1  2  3  4]\n",
            " [ 5  6  7  8  9]\n",
            " [10 11 12 13 14]]\n",
            "[[ 0  5 10]\n",
            " [ 1  6 11]\n",
            " [ 2  7 12]\n",
            " [ 3  8 13]\n",
            " [ 4  9 14]]\n"
          ]
        }
      ]
    },
    {
      "cell_type": "markdown",
      "metadata": {
        "id": "PIWHBcP8it0W"
      },
      "source": [
        "## matplotlib\n",
        "- python의 대표적인 chart 및 visualization 패키지\n",
        "- matplotlib 내의 pyplot 또는 pylab이라는 서브패키지를 chart 그리는 데 주로 사용\n",
        "- 아래 사이트에서 적절한 것을 선택하고 수정하여 사용하면 됨\n",
        "\n",
        "  http://matplotlib.org/gallery.html"
      ]
    },
    {
      "cell_type": "code",
      "metadata": {
        "id": "vUZ1-0Mhit0W"
      },
      "source": [
        "import matplotlib as mpl\n",
        "import matplotlib.pyplot as plt"
      ],
      "execution_count": 17,
      "outputs": []
    },
    {
      "cell_type": "code",
      "metadata": {
        "scrolled": true,
        "colab": {
          "base_uri": "https://localhost:8080/",
          "height": 265
        },
        "id": "LSpST2gRit0W",
        "outputId": "dd3a30aa-ded9-495e-c57d-54b8755bf8bf"
      },
      "source": [
        "plt.plot([1,2,4,8])\n",
        "plt.show()"
      ],
      "execution_count": 18,
      "outputs": [
        {
          "output_type": "display_data",
          "data": {
            "image/png": "[encoded data removed]",
            "text/plain": [
              "<Figure size 432x288 with 1 Axes>"
            ]
          },
          "metadata": {
            "needs_background": "light"
          }
        }
      ]
    },
    {
      "cell_type": "code",
      "metadata": {
        "colab": {
          "base_uri": "https://localhost:8080/",
          "height": 265
        },
        "id": "-NZRJ4-rit0X",
        "outputId": "f5ee4afb-2c67-4547-9a83-85127cc11763"
      },
      "source": [
        "plt.plot([2,4,6,8],[1,2,4,8])\n",
        "plt.show()"
      ],
      "execution_count": 19,
      "outputs": [
        {
          "output_type": "display_data",
          "data": {
            "image/png": "[encoded data removed]",
            "text/plain": [
              "<Figure size 432x288 with 1 Axes>"
            ]
          },
          "metadata": {
            "needs_background": "light"
          }
        }
      ]
    },
    {
      "cell_type": "code",
      "metadata": {
        "scrolled": true,
        "colab": {
          "base_uri": "https://localhost:8080/",
          "height": 265
        },
        "id": "TDUfpZwSit0X",
        "outputId": "d67a408f-b4b9-48f7-d81f-33a8d367e6fd"
      },
      "source": [
        "plt.plot([2,4,6,8],[1,2,4,8],'ro-') #y:색상(red),o:마커(circle),-:선스타일(solid)\n",
        "plt.show()"
      ],
      "execution_count": 20,
      "outputs": [
        {
          "output_type": "display_data",
          "data": {
            "image/png": "[encoded data removed]",
            "text/plain": [
              "<Figure size 432x288 with 1 Axes>"
            ]
          },
          "metadata": {
            "needs_background": "light"
          }
        }
      ]
    },
    {
      "cell_type": "code",
      "metadata": {
        "colab": {
          "base_uri": "https://localhost:8080/",
          "height": 265
        },
        "id": "A1VNKYH3it0Y",
        "outputId": "e95e4f82-164f-4c53-f2e4-9217cba1b317"
      },
      "source": [
        "plt.plot([2,4,6,8],[1,2,4,8],'ys--') #y:색상(yellow),o:마커(circle),--:선스타일(dotted)\n",
        "plt.show()"
      ],
      "execution_count": 21,
      "outputs": [
        {
          "output_type": "display_data",
          "data": {
            "image/png": "[encoded data removed]",
            "text/plain": [
              "<Figure size 432x288 with 1 Axes>"
            ]
          },
          "metadata": {
            "needs_background": "light"
          }
        }
      ]
    },
    {
      "cell_type": "markdown",
      "metadata": {
        "id": "GV_trefDit0Y"
      },
      "source": [
        "#### Chart 스타일 지정\n",
        "- '색상,마커,선'의 순서로 지정\n",
        "- 예) 'rc--' (빨간색 둥근마커로 점선), 'ys-'(노란색 사각마커로 실선)\n",
        "- 아래 사이트에서 상세 옵션 참고\n",
        "\n",
        "https://datascienceschool.net/view-notebook/d0b1637803754bb083b5722c9f2209d0/"
      ]
    },
    {
      "cell_type": "code",
      "metadata": {
        "colab": {
          "base_uri": "https://localhost:8080/",
          "height": 265
        },
        "id": "4djHTEJAit0Y",
        "outputId": "25626b60-07c1-4f51-a94b-bf749a973648"
      },
      "source": [
        "# X축: -10에서 10까지 100등분\n",
        "x = np.linspace(-10, 10, 100)\n",
        "# Y축: 사인(sin) 함수를 사용하여 y 계산\n",
        "y = np.sin(x)\n",
        "# 플롯(plot) 함수는 한 배열의 값을 다른 배열에 대응해서 선 그래프 그림\n",
        "plt.plot(x, y, marker=\"x\")\n",
        "plt.show()"
      ],
      "execution_count": 22,
      "outputs": [
        {
          "output_type": "display_data",
          "data": {
            "image/png": "[encoded data removed]",
            "text/plain": [
              "<Figure size 432x288 with 1 Axes>"
            ]
          },
          "metadata": {
            "needs_background": "light"
          }
        }
      ]
    },
    {
      "cell_type": "code",
      "metadata": {
        "colab": {
          "base_uri": "https://localhost:8080/",
          "height": 297
        },
        "id": "QQ5Zcna7it0Z",
        "outputId": "8374a9fd-76e9-4e6d-8290-c9697610df07"
      },
      "source": [
        "import numpy as np\n",
        "import matplotlib.pyplot as plt\n",
        "\n",
        "np.random.seed(0)\n",
        "\n",
        "mu = 200\n",
        "sigma = 25\n",
        "x = np.random.normal(mu, sigma, size=100)\n",
        "#print(x)\n",
        "\n",
        "fig, (ax0, ax1) = plt.subplots(ncols=2, figsize=(8, 4))\n",
        "\n",
        "ax0.hist(x, 10, histtype='stepfilled', facecolor='r', alpha=0.75)\n",
        "ax0.set_title('stepfilled')\n",
        "\n",
        "ax1.hist(x, 7, density=True, stacked=True, histtype='bar', rwidth=0.7)\n",
        "ax1.set_title('equal bins')\n",
        "\n",
        "fig.tight_layout()\n",
        "plt.show()"
      ],
      "execution_count": 23,
      "outputs": [
        {
          "output_type": "display_data",
          "data": {
            "image/png": "[encoded data removed]",
            "text/plain": [
              "<Figure size 576x288 with 2 Axes>"
            ]
          },
          "metadata": {
            "needs_background": "light"
          }
        }
      ]
    },
    {
      "cell_type": "code",
      "metadata": {
        "colab": {
          "base_uri": "https://localhost:8080/",
          "height": 386
        },
        "id": "gwJ_UI-Fit0Z",
        "outputId": "d27096f6-d1a9-468a-9fb3-43fb82a0bea1"
      },
      "source": [
        "import numpy as np\n",
        "import matplotlib.mlab as mlab\n",
        "import matplotlib.pyplot as plt\n",
        "from scipy.stats import norm\n",
        "\n",
        "np.random.seed(0)\n",
        "\n",
        "# example data\n",
        "mu = 100  # mean of distribution\n",
        "sigma = 15  # standard deviation of distribution\n",
        "x = mu + sigma * np.random.randn(437)\n",
        "num_bins = 20\n",
        "\n",
        "fig, ax = plt.subplots()\n",
        "\n",
        "# the histogram of the data\n",
        "n, bins, patches = ax.hist(x, num_bins, density=True, stacked=True)\n",
        "print(bins)\n",
        "# add a 'best fit' line\n",
        "y = norm.pdf(bins, mu, sigma) #Return the normal pdf evaluated at bins (args: mu, sigma)\n",
        "ax.plot(bins, y, '--')\n",
        "ax.set_xlabel('Smarts')\n",
        "ax.set_ylabel('Probability density')\n",
        "ax.set_title(r'Histogram of IQ: $\\mu=100$, $\\sigma=15$')\n",
        "\n",
        "# Tweak spacing to prevent clipping of ylabel\n",
        "fig.tight_layout()\n",
        "plt.show()"
      ],
      "execution_count": 24,
      "outputs": [
        {
          "output_type": "stream",
          "name": "stdout",
          "text": [
            "[ 58.41110865  62.2779118   66.14471495  70.0115181   73.87832125\n",
            "  77.7451244   81.61192754  85.47873069  89.34553384  93.21233699\n",
            "  97.07914014 100.94594329 104.81274644 108.67954958 112.54635273\n",
            " 116.41315588 120.27995903 124.14676218 128.01356533 131.88036847\n",
            " 135.74717162]\n"
          ]
        },
        {
          "output_type": "display_data",
          "data": {
            "image/png": "[encoded data removed]",
            "text/plain": [
              "<Figure size 432x288 with 1 Axes>"
            ]
          },
          "metadata": {
            "needs_background": "light"
          }
        }
      ]
    },
    {
      "cell_type": "code",
      "metadata": {
        "colab": {
          "base_uri": "https://localhost:8080/",
          "height": 352
        },
        "id": "V9w7jEryit0a",
        "outputId": "364d387d-d960-4c8e-ef41-c28be9ec8f6c"
      },
      "source": [
        "import numpy as np\n",
        "import matplotlib.pyplot as plt\n",
        "\n",
        "np.random.seed(0)\n",
        "\n",
        "n_bins = 10\n",
        "x = np.random.randn(1000, 3)\n",
        "\n",
        "fig, axes = plt.subplots(nrows=2, ncols=2)\n",
        "ax0, ax1, ax2, ax3 = axes.flatten()\n",
        "\n",
        "colors = ['red', 'tan', 'lime']\n",
        "ax0.hist(x, n_bins, density=True, stacked=True, histtype='bar', color=colors, label=colors)\n",
        "ax0.legend(prop={'size': 10})\n",
        "ax0.set_title('bars with legend')\n",
        "\n",
        "ax1.hist(x, n_bins, density=True, stacked=True, histtype='bar')\n",
        "ax1.set_title('stacked bar')\n",
        "\n",
        "ax2.hist(x, n_bins, histtype='step', stacked=True, fill=False)\n",
        "ax2.set_title('stack step (unfilled)')\n",
        "\n",
        "# Make a multiple-histogram of data-sets with different length.\n",
        "x_multi = [np.random.randn(n) for n in [10000, 5000, 2000]]\n",
        "ax3.hist(x_multi, n_bins, histtype='bar')\n",
        "ax3.set_title('different sample sizes')\n",
        "\n",
        "fig.tight_layout()\n",
        "plt.show()"
      ],
      "execution_count": 25,
      "outputs": [
        {
          "output_type": "stream",
          "name": "stderr",
          "text": [
            "/usr/local/lib/python3.7/dist-packages/numpy/core/_asarray.py:83: VisibleDeprecationWarning: Creating an ndarray from ragged nested sequences (which is a list-or-tuple of lists-or-tuples-or ndarrays with different lengths or shapes) is deprecated. If you meant to do this, you must specify 'dtype=object' when creating the ndarray\n",
            "  return array(a, dtype, copy=False, order=order)\n"
          ]
        },
        {
          "output_type": "display_data",
          "data": {
            "image/png": "[encoded data removed]",
            "text/plain": [
              "<Figure size 432x288 with 4 Axes>"
            ]
          },
          "metadata": {
            "needs_background": "light"
          }
        }
      ]
    },
    {
      "cell_type": "code",
      "metadata": {
        "colab": {
          "base_uri": "https://localhost:8080/",
          "height": 279
        },
        "id": "7zWisxkait0b",
        "outputId": "3b1f9dee-2bdd-4546-fdbb-ce1b4e27ce37"
      },
      "source": [
        "import matplotlib.pyplot as plt\n",
        "import numpy as np\n",
        "\n",
        "# Random test data\n",
        "np.random.seed(123)\n",
        "all_data = [np.random.normal(0, std, 100) for std in range(1, 4)]\n",
        "\n",
        "fig, axes = plt.subplots(nrows=1, ncols=2, figsize=(9, 4))\n",
        "\n",
        "# rectangular box plot\n",
        "bplot1 = axes[0].boxplot(all_data,\n",
        "                         vert=True,   # vertical box aligmnent\n",
        "                         patch_artist=True)   # fill with color\n",
        "\n",
        "# notch shape box plot\n",
        "bplot2 = axes[1].boxplot(all_data,\n",
        "                         notch=True,  # notch shape\n",
        "                         vert=True,   # vertical box aligmnent\n",
        "                         patch_artist=True)   # fill with color\n",
        "\n",
        "# fill with colors\n",
        "colors = ['pink', 'lightblue', 'lightgreen']\n",
        "for bplot in (bplot1, bplot2):\n",
        "    for patch, color in zip(bplot['boxes'], colors):\n",
        "        patch.set_facecolor(color)\n",
        "\n",
        "# adding horizontal grid lines\n",
        "for ax in axes:\n",
        "    ax.yaxis.grid(True)\n",
        "    ax.set_xticks([y+1 for y in range(len(all_data))], )\n",
        "    ax.set_xlabel('xlabel')\n",
        "    ax.set_ylabel('ylabel')\n",
        "\n",
        "# add x-tick labels\n",
        "plt.setp(axes, xticks=[y+1 for y in range(len(all_data))],\n",
        "         xticklabels=['x1', 'x2', 'x3', 'x4'])\n",
        "\n",
        "plt.show()"
      ],
      "execution_count": 26,
      "outputs": [
        {
          "output_type": "display_data",
          "data": {
            "image/png": "[encoded data removed]",
            "text/plain": [
              "<Figure size 648x288 with 2 Axes>"
            ]
          },
          "metadata": {
            "needs_background": "light"
          }
        }
      ]
    },
    {
      "cell_type": "code",
      "metadata": {
        "colab": {
          "base_uri": "https://localhost:8080/",
          "height": 286
        },
        "id": "7FqeUODoit0c",
        "outputId": "aa3d61a1-6eb7-48ab-815c-e39dc9cd30c3"
      },
      "source": [
        "# Compute pie slices\n",
        "N = 20\n",
        "theta = np.linspace(0.0, 2 * np.pi, N, endpoint=False)\n",
        "radii = 10 * np.random.rand(N)\n",
        "width = np.pi / 4 * np.random.rand(N)\n",
        "\n",
        "ax = plt.subplot(111, projection='polar')\n",
        "bars = ax.bar(theta, radii, width=width, bottom=0.0)\n",
        "\n",
        "# Use custom colors and opacity\n",
        "for r, bar in zip(radii, bars):\n",
        "    bar.set_facecolor(plt.cm.viridis(r / 10.))\n",
        "    bar.set_alpha(0.5)\n",
        "\n",
        "plt.show()"
      ],
      "execution_count": 27,
      "outputs": [
        {
          "output_type": "display_data",
          "data": {
            "image/png": "[encoded data removed]",
            "text/plain": [
              "<Figure size 432x288 with 1 Axes>"
            ]
          },
          "metadata": {
            "needs_background": "light"
          }
        }
      ]
    }
  ]
}