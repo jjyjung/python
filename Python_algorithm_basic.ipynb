{
  "cells": [
    {
      "cell_type": "markdown",
      "metadata": {
        "id": "view-in-github",
        "colab_type": "text"
      },
      "source": [
        "<a href=\"https://colab.research.google.com/github/jjyjung/python/blob/gh-pages/Python_algorithm_basic.ipynb\" target=\"_parent\"><img src=\"https://colab.research.google.com/assets/colab-badge.svg\" alt=\"Open In Colab\"/></a>"
      ]
    },
    {
      "cell_type": "code",
      "execution_count": null,
      "metadata": {
        "id": "07NdkgH3Wnlv"
      },
      "outputs": [],
      "source": [
        "MY_LIST = [1,2,3,4,5,6,7,8,9,10]"
      ]
    },
    {
      "cell_type": "code",
      "execution_count": null,
      "metadata": {
        "id": "BhgZN6gkyRc9"
      },
      "outputs": [],
      "source": [
        "def sample1(A, n):\n",
        "  k = int(n/2)\n",
        "  return A[k]"
      ]
    },
    {
      "cell_type": "code",
      "execution_count": null,
      "metadata": {
        "colab": {
          "base_uri": "https://localhost:8080/"
        },
        "id": "pvTk9Xfc68zl",
        "outputId": "9b49aa79-988c-4eeb-ba8d-95ad7b89197d"
      },
      "outputs": [
        {
          "data": {
            "text/plain": [
              "3"
            ]
          },
          "execution_count": 3,
          "metadata": {},
          "output_type": "execute_result"
        }
      ],
      "source": [
        "sample1(MY_LIST, 4)"
      ]
    },
    {
      "cell_type": "code",
      "execution_count": null,
      "metadata": {
        "id": "s-1uTbpi7Clr"
      },
      "outputs": [],
      "source": [
        "def sample2(A, n):\n",
        "  sum = 0\n",
        "  for i in range(0, n):\n",
        "    sum = sum + A[i]\n",
        "  return sum"
      ]
    },
    {
      "cell_type": "code",
      "execution_count": null,
      "metadata": {
        "colab": {
          "base_uri": "https://localhost:8080/"
        },
        "id": "FPu8SNJM7oA3",
        "outputId": "34340b89-fd4f-4d7e-ab55-a7e910c1e2ba"
      },
      "outputs": [
        {
          "data": {
            "text/plain": [
              "15"
            ]
          },
          "execution_count": 5,
          "metadata": {},
          "output_type": "execute_result"
        }
      ],
      "source": [
        "sample2(MY_LIST, 5)"
      ]
    },
    {
      "cell_type": "code",
      "execution_count": null,
      "metadata": {
        "id": "vmo0Sbzy7q3g"
      },
      "outputs": [],
      "source": [
        "def sample3(A, n):\n",
        "  sum = 0\n",
        "  for i in range(0, n):\n",
        "    for j in range(0, n):\n",
        "      sum = sum + A[i] * A[j]\n",
        "  return sum"
      ]
    },
    {
      "cell_type": "code",
      "execution_count": null,
      "metadata": {
        "colab": {
          "base_uri": "https://localhost:8080/"
        },
        "id": "2GpCJoPf71Pn",
        "outputId": "9c4be8e1-1a0c-4791-d081-2f309742c6d1"
      },
      "outputs": [
        {
          "data": {
            "text/plain": [
              "225"
            ]
          },
          "execution_count": 7,
          "metadata": {},
          "output_type": "execute_result"
        }
      ],
      "source": [
        "sample3(MY_LIST, 5)"
      ]
    },
    {
      "cell_type": "code",
      "execution_count": null,
      "metadata": {
        "id": "2JBBw56N739z"
      },
      "outputs": [],
      "source": [
        "import numpy as np\n",
        "\n",
        "def sample4(A, n):\n",
        "  sum = 0\n",
        "  for i in range(0, n):\n",
        "    for j in range(0, n):\n",
        "      k_tmp = np.random.randint(low=0, high=len(A), size=int(len(A)/2))\n",
        "      k = np.max(k_tmp)\n",
        "      sum = sum + k\n",
        "  return sum"
      ]
    },
    {
      "cell_type": "code",
      "execution_count": null,
      "metadata": {
        "colab": {
          "base_uri": "https://localhost:8080/"
        },
        "id": "RbI5kDwc8pq_",
        "outputId": "7fe2c760-de53-4a7c-fbdc-e830f22d330c"
      },
      "outputs": [
        {
          "data": {
            "text/plain": [
              "184"
            ]
          },
          "execution_count": 9,
          "metadata": {},
          "output_type": "execute_result"
        }
      ],
      "source": [
        "sample4(MY_LIST, 5)"
      ]
    },
    {
      "cell_type": "code",
      "execution_count": null,
      "metadata": {
        "id": "jHFUdHhM8sqM"
      },
      "outputs": [],
      "source": [
        "def sample5(A, n):\n",
        "  sum = 0\n",
        "  for i in range(0, n):\n",
        "    for j in range(i+1, n):\n",
        "      sum = sum + A[i] * A[j]\n",
        "  return sum"
      ]
    },
    {
      "cell_type": "code",
      "execution_count": null,
      "metadata": {
        "colab": {
          "base_uri": "https://localhost:8080/"
        },
        "id": "d4WgwKNn9Bzq",
        "outputId": "b21de076-c1a9-4ed8-96bc-4216c133ebaa"
      },
      "outputs": [
        {
          "data": {
            "text/plain": [
              "85"
            ]
          },
          "execution_count": 11,
          "metadata": {},
          "output_type": "execute_result"
        }
      ],
      "source": [
        "sample5(MY_LIST, 5)"
      ]
    },
    {
      "cell_type": "code",
      "execution_count": null,
      "metadata": {
        "id": "Q4uvUcb59Eau"
      },
      "outputs": [],
      "source": [
        "def factorial(n):\n",
        "  print(n)\n",
        "  if n > 1:\n",
        "    return n*factorial(n-1)\n",
        "  else:\n",
        "    return 1"
      ]
    },
    {
      "cell_type": "code",
      "execution_count": null,
      "metadata": {
        "colab": {
          "base_uri": "https://localhost:8080/"
        },
        "id": "1TRHnR-tBpxu",
        "outputId": "9b3bcc9a-a40c-4c34-f309-095e4f839cca"
      },
      "outputs": [
        {
          "name": "stdout",
          "output_type": "stream",
          "text": [
            "5\n",
            "4\n",
            "3\n",
            "2\n",
            "1\n",
            "fact 120\n"
          ]
        }
      ],
      "source": [
        "fact = factorial(5)\n",
        "print('fact', fact)"
      ]
    },
    {
      "cell_type": "code",
      "execution_count": null,
      "metadata": {
        "id": "huPPhjD3Bqmh"
      },
      "outputs": [],
      "source": []
    }
  ],
  "metadata": {
    "accelerator": "GPU",
    "colab": {
      "collapsed_sections": [],
      "provenance": [],
      "include_colab_link": true
    },
    "gpuClass": "standard",
    "kernelspec": {
      "display_name": "Python 3",
      "language": "python",
      "name": "python3"
    },
    "language_info": {
      "codemirror_mode": {
        "name": "ipython",
        "version": 3
      },
      "file_extension": ".py",
      "mimetype": "text/x-python",
      "name": "python",
      "nbconvert_exporter": "python",
      "pygments_lexer": "ipython3",
      "version": "3.8.8"
    }
  },
  "nbformat": 4,
  "nbformat_minor": 0
}