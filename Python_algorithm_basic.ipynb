{
  "cells": [
    {
      "cell_type": "markdown",
      "metadata": {
        "id": "view-in-github",
        "colab_type": "text"
      },
      "source": [
        "<a href=\"https://colab.research.google.com/github/jjyjung/python/blob/gh-pages/Python_algorithm_basic.ipynb\" target=\"_parent\"><img src=\"https://colab.research.google.com/assets/colab-badge.svg\" alt=\"Open In Colab\"/></a>"
      ]
    },
    {
      "cell_type": "code",
      "execution_count": 26,
      "metadata": {
        "id": "07NdkgH3Wnlv"
      },
      "outputs": [],
      "source": [
        "MY_LIST = [1,2,3,4,5,6,7,8,9,10]"
      ]
    },
    {
      "cell_type": "code",
      "source": [
        "type(MY_LIST)"
      ],
      "metadata": {
        "colab": {
          "base_uri": "https://localhost:8080/"
        },
        "id": "_q7NwZuqk7mE",
        "outputId": "206f8f70-2696-4b01-c5aa-dd90c1297e61"
      },
      "execution_count": 27,
      "outputs": [
        {
          "output_type": "execute_result",
          "data": {
            "text/plain": [
              "list"
            ]
          },
          "metadata": {},
          "execution_count": 27
        }
      ]
    },
    {
      "cell_type": "code",
      "source": [
        "len(MY_LIST)"
      ],
      "metadata": {
        "colab": {
          "base_uri": "https://localhost:8080/"
        },
        "id": "7z3wX3CylaLP",
        "outputId": "47447030-c6cb-4139-a993-b0f93a1d2c31"
      },
      "execution_count": 28,
      "outputs": [
        {
          "output_type": "execute_result",
          "data": {
            "text/plain": [
              "10"
            ]
          },
          "metadata": {},
          "execution_count": 28
        }
      ]
    },
    {
      "cell_type": "code",
      "execution_count": 29,
      "metadata": {
        "id": "BhgZN6gkyRc9"
      },
      "outputs": [],
      "source": [
        "def sample1(A, n=None):\n",
        "  if n==None:\n",
        "    n = len(A)\n",
        "  k = int(n/2)\n",
        "  return A[k]"
      ]
    },
    {
      "cell_type": "code",
      "execution_count": 30,
      "metadata": {
        "colab": {
          "base_uri": "https://localhost:8080/"
        },
        "id": "pvTk9Xfc68zl",
        "outputId": "3fba3e70-48cc-4c7c-f727-cbf8ba565fde"
      },
      "outputs": [
        {
          "output_type": "execute_result",
          "data": {
            "text/plain": [
              "6"
            ]
          },
          "metadata": {},
          "execution_count": 30
        }
      ],
      "source": [
        "sample1(MY_LIST, 10)"
      ]
    },
    {
      "cell_type": "code",
      "source": [
        "sample1(MY_LIST)"
      ],
      "metadata": {
        "colab": {
          "base_uri": "https://localhost:8080/"
        },
        "id": "ZcyOA-Dsnd6K",
        "outputId": "b1efd594-4cab-45d9-b03d-ed20204f6f3e"
      },
      "execution_count": 31,
      "outputs": [
        {
          "output_type": "execute_result",
          "data": {
            "text/plain": [
              "6"
            ]
          },
          "metadata": {},
          "execution_count": 31
        }
      ]
    },
    {
      "cell_type": "code",
      "execution_count": 32,
      "metadata": {
        "id": "s-1uTbpi7Clr"
      },
      "outputs": [],
      "source": [
        "def sample2(A, n):\n",
        "  sum = 0\n",
        "  for i in range(0, n):\n",
        "    sum = sum + A[i]\n",
        "  return sum"
      ]
    },
    {
      "cell_type": "code",
      "execution_count": 33,
      "metadata": {
        "colab": {
          "base_uri": "https://localhost:8080/"
        },
        "id": "FPu8SNJM7oA3",
        "outputId": "0efebd95-a3fe-4cb1-c6fb-4ffbdf35fd87"
      },
      "outputs": [
        {
          "output_type": "execute_result",
          "data": {
            "text/plain": [
              "15"
            ]
          },
          "metadata": {},
          "execution_count": 33
        }
      ],
      "source": [
        "sample2(MY_LIST, 5)"
      ]
    },
    {
      "cell_type": "code",
      "execution_count": 34,
      "metadata": {
        "id": "vmo0Sbzy7q3g"
      },
      "outputs": [],
      "source": [
        "def sample3(A, n):\n",
        "  sum = 0\n",
        "  for i in range(0, n):\n",
        "    for j in range(0, n):\n",
        "      sum = sum + A[i] * A[j]\n",
        "  return sum"
      ]
    },
    {
      "cell_type": "code",
      "execution_count": 35,
      "metadata": {
        "colab": {
          "base_uri": "https://localhost:8080/"
        },
        "id": "2GpCJoPf71Pn",
        "outputId": "02b7d7b2-b3db-4beb-c904-cfe1554e3add"
      },
      "outputs": [
        {
          "output_type": "execute_result",
          "data": {
            "text/plain": [
              "225"
            ]
          },
          "metadata": {},
          "execution_count": 35
        }
      ],
      "source": [
        "sample3(MY_LIST, 5)"
      ]
    },
    {
      "cell_type": "code",
      "execution_count": 36,
      "metadata": {
        "id": "2JBBw56N739z"
      },
      "outputs": [],
      "source": [
        "import numpy as np\n",
        "\n",
        "def sample4(A, n):\n",
        "  sum = 0\n",
        "  for i in range(0, n):\n",
        "    for j in range(0, n):\n",
        "      k_tmp = np.random.randint(low=0, high=len(A), size=int(len(A)/2))\n",
        "      k = np.max(k_tmp)\n",
        "      sum = sum + k\n",
        "  return sum"
      ]
    },
    {
      "cell_type": "code",
      "execution_count": 37,
      "metadata": {
        "colab": {
          "base_uri": "https://localhost:8080/"
        },
        "id": "RbI5kDwc8pq_",
        "outputId": "3c679f21-39c7-41e2-edba-40b92c7dd8f9"
      },
      "outputs": [
        {
          "output_type": "execute_result",
          "data": {
            "text/plain": [
              "186"
            ]
          },
          "metadata": {},
          "execution_count": 37
        }
      ],
      "source": [
        "sample4(MY_LIST, 5)"
      ]
    },
    {
      "cell_type": "code",
      "execution_count": 38,
      "metadata": {
        "id": "jHFUdHhM8sqM"
      },
      "outputs": [],
      "source": [
        "def sample5(A, n):\n",
        "  sum = 0\n",
        "  for i in range(0, n):\n",
        "    for j in range(i+1, n):\n",
        "      sum = sum + A[i] * A[j]\n",
        "  return sum"
      ]
    },
    {
      "cell_type": "code",
      "execution_count": 39,
      "metadata": {
        "colab": {
          "base_uri": "https://localhost:8080/"
        },
        "id": "d4WgwKNn9Bzq",
        "outputId": "7313590f-b2e0-4fff-80d7-4f5dbf9f616a"
      },
      "outputs": [
        {
          "output_type": "execute_result",
          "data": {
            "text/plain": [
              "85"
            ]
          },
          "metadata": {},
          "execution_count": 39
        }
      ],
      "source": [
        "sample5(MY_LIST, 5)"
      ]
    },
    {
      "cell_type": "code",
      "execution_count": 40,
      "metadata": {
        "id": "Q4uvUcb59Eau"
      },
      "outputs": [],
      "source": [
        "def factorial(n):\n",
        "  print(n)\n",
        "  if n > 1:\n",
        "    return n*factorial(n-1)\n",
        "  else:\n",
        "    return 1"
      ]
    },
    {
      "cell_type": "code",
      "execution_count": 41,
      "metadata": {
        "colab": {
          "base_uri": "https://localhost:8080/"
        },
        "id": "1TRHnR-tBpxu",
        "outputId": "b6a75319-7f8c-4ba0-d11e-b8f30fa6bdd8"
      },
      "outputs": [
        {
          "output_type": "stream",
          "name": "stdout",
          "text": [
            "5\n",
            "4\n",
            "3\n",
            "2\n",
            "1\n",
            "fact 120\n"
          ]
        }
      ],
      "source": [
        "fact = factorial(5)\n",
        "print('fact', fact)"
      ]
    },
    {
      "cell_type": "code",
      "execution_count": 41,
      "metadata": {
        "id": "huPPhjD3Bqmh"
      },
      "outputs": [],
      "source": []
    }
  ],
  "metadata": {
    "accelerator": "GPU",
    "colab": {
      "collapsed_sections": [],
      "provenance": [],
      "include_colab_link": true
    },
    "gpuClass": "standard",
    "kernelspec": {
      "display_name": "Python 3",
      "language": "python",
      "name": "python3"
    },
    "language_info": {
      "codemirror_mode": {
        "name": "ipython",
        "version": 3
      },
      "file_extension": ".py",
      "mimetype": "text/x-python",
      "name": "python",
      "nbconvert_exporter": "python",
      "pygments_lexer": "ipython3",
      "version": "3.8.8"
    }
  },
  "nbformat": 4,
  "nbformat_minor": 0
}