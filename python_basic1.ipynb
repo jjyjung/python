{
 "cells": [
  {
   "cell_type": "markdown",
   "metadata": {},
   "source": [
    "## Jupyter Notebook 간단 사용법\n",
    "### Cell 관리\n",
    "1. In [ ] 뒤에 있는 부분을 Cell이라고 부릅니다.\n",
    "1. Cell 위에 Cell을 추가할 때는 a를 누르고,<br>\n",
    "1. Cell 다음에 추가할 때는 b를 누르며,<br>\n",
    "Cell을 삭제할 때는 dd를 누릅니다.\n",
    "\n",
    "### Cell 실행\n",
    "- Cell 내에서 Ctrl + Enter\n",
    "- 여러 Cell을 선택한 후, Ctrl + Enter\n",
    "\n",
    "### Cell 실행\n",
    "- In [ ] 안의 숫자는 실행된 index를 의미합니다.\n",
    "- 만약 처음부터 다시 넘버링을 하고 싶다면, 메뉴 > Kernel > Restart 한 이후에,<br>\n",
    "하나의 Cell 또는 여러 Cell을 선택한 후 재실행하면 됩니다. \n",
    "\n",
    "### Cell 타입\n",
    "- 주로 Code와 Markdown으로 구분하여 사용하면 됩니다. \n",
    "- Code는 Python 등의 소스 코드를 기입합니다.\n",
    "- Markdown은 간단한 HTML 생성 문법으로, 상세 사용법은 아래를 참조하시오.\n",
    "<br> https://namu.wiki/w/마크다운\n",
    "\n",
    "### Cell 위치 이동\n",
    "- 하나 또는 둘 이상의 Cell을 선택하여, 메뉴 아래의 상/하 화살표로 위치 이동 가능\n",
    "\n",
    "### 파일 저장 및 복구\n",
    "- 메뉴 > File > save & checkpoint 를 클릭합니다.\n",
    "- 메뉴 > File > rename 에서 파일명을 변경할 수 있습니다.\n",
    "- 아까 저장했던 버전으로 복구하려면, File > Revert to Checkpoint 에서 원하는 저장시간을 선택하시오."
   ]
  },
  {
   "cell_type": "markdown",
   "metadata": {},
   "source": [
    "### 사칙연산"
   ]
  },
  {
   "cell_type": "code",
   "execution_count": 1,
   "metadata": {
    "scrolled": true
   },
   "outputs": [
    {
     "name": "stdout",
     "output_type": "stream",
     "text": [
      "7\n",
      "-1\n"
     ]
    }
   ],
   "source": [
    "#사칙연산을 설명합니다.\n",
    "#주석은 # 뒤에 기재하면 됩니다.\n",
    "a = 3\n",
    "b = 4 \n",
    "c = a + b\n",
    "d = a - b\n",
    "print (c)\n",
    "print (d)"
   ]
  },
  {
   "cell_type": "code",
   "execution_count": 2,
   "metadata": {},
   "outputs": [
    {
     "name": "stdout",
     "output_type": "stream",
     "text": [
      "12\n",
      "0.75\n"
     ]
    }
   ],
   "source": [
    "print (a*b); print (a/b)\n",
    "#python에서 여러 문장을 한 줄에 쓸 때에는 semi-colon(;)을 쓸 수 있다."
   ]
  },
  {
   "cell_type": "code",
   "execution_count": 3,
   "metadata": {},
   "outputs": [
    {
     "name": "stdout",
     "output_type": "stream",
     "text": [
      "3.5\n",
      "3\n",
      "1\n"
     ]
    }
   ],
   "source": [
    "print (7/2)\n",
    "print (7//2)  #몫\n",
    "print (7%2)   #나머지"
   ]
  },
  {
   "cell_type": "markdown",
   "metadata": {},
   "source": [
    "### 문자열"
   ]
  },
  {
   "cell_type": "code",
   "execution_count": 4,
   "metadata": {},
   "outputs": [
    {
     "name": "stdout",
     "output_type": "stream",
     "text": [
      "python anaconda\n",
      "t\n",
      "py\n",
      "ana\n",
      "da\n"
     ]
    }
   ],
   "source": [
    "str1 = 'python'      #문자열은 작은따옴표 또는 큰따옴표 모두 가능\n",
    "str2 = \"anaconda\"\n",
    "print (str1 + \" \" + str2) #문자열 연결\n",
    "print (str1[2])  #문자 추출\n",
    "print (str1[0:2])  #문자 추출\n",
    "print (str2[:3])   #시작 index 생략\n",
    "print (str2[-2:])  #뒤에서 시작하여, 종료 index 생략"
   ]
  },
  {
   "cell_type": "code",
   "execution_count": 5,
   "metadata": {},
   "outputs": [
    {
     "name": "stdout",
     "output_type": "stream",
     "text": [
      "I'm John's father.\n"
     ]
    }
   ],
   "source": [
    "str3 = \"I'm John's father.\"  #큰 따옴표 안에서 작은 따옴표는 문자로 인식됨\n",
    "print (str3)"
   ]
  },
  {
   "cell_type": "code",
   "execution_count": 6,
   "metadata": {},
   "outputs": [
    {
     "name": "stdout",
     "output_type": "stream",
     "text": [
      "첫번째 줄\n",
      "두번째 줄\n",
      "세번째 줄\n",
      "'네'번째 줄\n",
      "'다섯'번째 줄\n",
      "'여섯'번째 줄\n"
     ]
    }
   ],
   "source": [
    "longStr1 = '''첫번째 줄\n",
    "두번째 줄\n",
    "세번째 줄'''\n",
    "longStr2 = \"\"\"\n",
    "'네'번째 줄\n",
    "'다섯'번째 줄\n",
    "'여섯'번째 줄\"\"\"\n",
    "print (longStr1 + longStr2)  #줄바꿈을 인식하는 긴 문자열"
   ]
  },
  {
   "cell_type": "markdown",
   "metadata": {},
   "source": [
    "### 제어문"
   ]
  },
  {
   "cell_type": "code",
   "execution_count": 38,
   "metadata": {},
   "outputs": [
    {
     "name": "stdout",
     "output_type": "stream",
     "text": [
      "num은 5와 같다\n"
     ]
    }
   ],
   "source": [
    "num = 5\n",
    "if num > 5:  #colon을 반드시!\n",
    "    print (str(num) + \"은 5보다 크다\")\n",
    "    #숫자를 문자로 바꿀 때, 내장함수 str()을 사용하거나\n",
    "elif num == 5:\n",
    "    print ('num' + \"은 5와 같다\")\n",
    "    #또는 ' ' 사용 가능\n",
    "else: \n",
    "    print (str(num) + \"은 5보다 작거나 같다\")"
   ]
  },
  {
   "cell_type": "code",
   "execution_count": 8,
   "metadata": {},
   "outputs": [
    {
     "name": "stdout",
     "output_type": "stream",
     "text": [
      "1\n",
      "2\n",
      "3\n",
      "0는 숫자입니다.\n",
      "1는 숫자입니다.\n",
      "2는 숫자입니다.\n",
      "3는 숫자입니다.\n",
      "4는 숫자입니다.\n",
      "3\n",
      "4\n",
      "100\n",
      "101\n",
      "102\n",
      "104\n",
      "105\n"
     ]
    }
   ],
   "source": [
    "for i in [1,2,3]:    # 괄호 대신 들여쓰기\n",
    "    print (i)\n",
    "\n",
    "n = 5\n",
    "for i in range(n):   # range는 [0,1,...,n-1]의 list(배열)을 만들어 주는 내장함수\n",
    "    print (str(i) + \"는\", \"숫자입니다.\")\n",
    "\n",
    "for i in range(3,5): # 3부터 5 직전까지 배열 생성\n",
    "    print (str(i))\n",
    "\n",
    "for i in range(100, 200):\n",
    "    if(i==103): continue\n",
    "    print (i)\n",
    "    if(i==105): break"
   ]
  },
  {
   "cell_type": "code",
   "execution_count": 9,
   "metadata": {},
   "outputs": [
    {
     "name": "stdout",
     "output_type": "stream",
     "text": [
      "0\n",
      "1\n",
      "3\n",
      "6\n",
      "10\n"
     ]
    }
   ],
   "source": [
    "i = 0\n",
    "sum = 0\n",
    "while i<5:\n",
    "    sum += i\n",
    "    print (sum)\n",
    "    i+=1      ##i++ 대신에 이렇게 표현해야 함."
   ]
  },
  {
   "cell_type": "markdown",
   "metadata": {},
   "source": [
    "### 형변환"
   ]
  },
  {
   "cell_type": "code",
   "execution_count": 10,
   "metadata": {},
   "outputs": [
    {
     "name": "stdout",
     "output_type": "stream",
     "text": [
      "반지름 = 2\n",
      "12.56\n",
      "33.49333333333333\n"
     ]
    }
   ],
   "source": [
    "s = '3.14'\n",
    "pi = float(s) #실수로 변환\n",
    "r = '2'\n",
    "rad = int(r) #정수로 변환\n",
    "print (\"반지름 = \" + str(rad)) #문자로 변환\n",
    "area = pi * (rad ** 2)  #a**b는 a^b를 계산해줌\n",
    "print (area)\n",
    "volume = 4/3 * pi * pow(rad,3)  #내장함수 pow(a,b)도 a^b를 계산해줌\n",
    "print (volume)"
   ]
  },
  {
   "cell_type": "markdown",
   "metadata": {},
   "source": [
    "### 함수 정의"
   ]
  },
  {
   "cell_type": "code",
   "execution_count": 11,
   "metadata": {},
   "outputs": [
    {
     "name": "stdout",
     "output_type": "stream",
     "text": [
      "3\n",
      "1\n"
     ]
    }
   ],
   "source": [
    "def sum(a,b): \n",
    "    return a+b\n",
    "\n",
    "def subtract(a,b):\n",
    "    return a-b\n",
    "\n",
    "print (sum(2,1))\n",
    "print (subtract(2,1))"
   ]
  },
  {
   "cell_type": "markdown",
   "metadata": {},
   "source": [
    "### List, Tuple, Set, Dictionary"
   ]
  },
  {
   "cell_type": "code",
   "execution_count": 12,
   "metadata": {},
   "outputs": [
    {
     "name": "stdout",
     "output_type": "stream",
     "text": [
      "7\n",
      "3\n",
      "6\n"
     ]
    }
   ],
   "source": [
    "ary = [7,3,6]\n",
    "for i in range(len(ary)):\n",
    "    print (ary[i])"
   ]
  },
  {
   "cell_type": "code",
   "execution_count": 31,
   "metadata": {},
   "outputs": [
    {
     "name": "stdout",
     "output_type": "stream",
     "text": [
      "[3, 6, 7, 'k', 'k', 'k', 'k', 'k', 'k', 'k', 'k']\n",
      "[7, 'k', 'k', 'k', 'k', 'k', 'k', 'k']\n"
     ]
    }
   ],
   "source": [
    "ary.append('k')\n",
    "print (ary[:])\n",
    "print (ary[2:-1])  #ary의 index 2부터 끝에서 -1 직전까지 출력"
   ]
  },
  {
   "cell_type": "code",
   "execution_count": 14,
   "metadata": {},
   "outputs": [
    {
     "name": "stdout",
     "output_type": "stream",
     "text": [
      "[7, 17, 3, 6, 'k']\n"
     ]
    }
   ],
   "source": [
    "ary.insert(1,17)\n",
    "print (ary[:])"
   ]
  },
  {
   "cell_type": "code",
   "execution_count": 15,
   "metadata": {},
   "outputs": [
    {
     "name": "stdout",
     "output_type": "stream",
     "text": [
      "[7, 17, 3, 6]\n",
      "[7, 3, 6]\n"
     ]
    }
   ],
   "source": [
    "ary.pop()\n",
    "print (ary[:])\n",
    "ary.pop(1)\n",
    "print (ary[:])"
   ]
  },
  {
   "cell_type": "code",
   "execution_count": 16,
   "metadata": {},
   "outputs": [],
   "source": [
    "if 'k' in ary:    #ary 내에 'k'가 존재하는지 확인하는 조건문\n",
    "    ary.remove('k')  #'k'를 하나 삭제함\n",
    "    print (ary[:])"
   ]
  },
  {
   "cell_type": "code",
   "execution_count": 17,
   "metadata": {},
   "outputs": [
    {
     "name": "stdout",
     "output_type": "stream",
     "text": [
      "[3, 6, 7]\n"
     ]
    }
   ],
   "source": [
    "ary.sort()\n",
    "print (ary)"
   ]
  },
  {
   "cell_type": "code",
   "execution_count": 18,
   "metadata": {},
   "outputs": [
    {
     "name": "stdout",
     "output_type": "stream",
     "text": [
      "1\n",
      "5\n",
      "6\n"
     ]
    }
   ],
   "source": [
    "li = [[1,2],[3,4,5],6]  #다차원 리스트\n",
    "print (li[0][0])\n",
    "print (li[1][2])\n",
    "print (li[2])"
   ]
  },
  {
   "cell_type": "code",
   "execution_count": 19,
   "metadata": {},
   "outputs": [
    {
     "name": "stdout",
     "output_type": "stream",
     "text": [
      "3\n",
      "(5, 7)\n"
     ]
    }
   ],
   "source": [
    "t1 = (1,3,5,7)   #Tuple(튜플): list와 달리 크기가 고정됨\n",
    "print (t1[1])\n",
    "print (t1[2:4])"
   ]
  },
  {
   "cell_type": "code",
   "execution_count": 20,
   "metadata": {},
   "outputs": [
    {
     "name": "stdout",
     "output_type": "stream",
     "text": [
      "{1, 2, 3, 6}\n",
      "{3, 6, 7}\n",
      "{1, 3, 5, 7}\n"
     ]
    }
   ],
   "source": [
    "s1 = {1, 2, 3, 1, 2, 6}  #Set(집합)은 중복 무시\n",
    "print (s1)\n",
    "s2 = set(ary)\n",
    "print (s2)\n",
    "s3 = set(t1)\n",
    "print (s3)"
   ]
  },
  {
   "cell_type": "code",
   "execution_count": 21,
   "metadata": {},
   "outputs": [
    {
     "name": "stdout",
     "output_type": "stream",
     "text": [
      "{'e', 'H', 'l', 'o'}\n"
     ]
    }
   ],
   "source": [
    "s4 = set(\"Hello\")\n",
    "print (s4)"
   ]
  },
  {
   "cell_type": "code",
   "execution_count": 22,
   "metadata": {},
   "outputs": [
    {
     "name": "stdout",
     "output_type": "stream",
     "text": [
      "kim의 2학년이고 20세입니다.\n"
     ]
    }
   ],
   "source": [
    "dic = {'name':'kim', 'grade':2, 'age':20}\n",
    "print (dic['name'] + \"의 \" + str(dic['grade']) + \"학년이고 \" + str(dic['age']) + \"세입니다.\")\n",
    "#Dictionary(사전)은 key-value 쌍을 저장하는 자료구조 입니다."
   ]
  },
  {
   "cell_type": "markdown",
   "metadata": {},
   "source": [
    "### Class"
   ]
  },
  {
   "cell_type": "code",
   "execution_count": 45,
   "metadata": {},
   "outputs": [
    {
     "name": "stdout",
     "output_type": "stream",
     "text": [
      "조 F 10.0\n"
     ]
    }
   ],
   "source": [
    "class Customer:\n",
    "#     name = ''\n",
    "#     age = ''\n",
    "#     gender = ''\n",
    "    def addInfo(self, name, gender, age):\n",
    "        self.name = name\n",
    "        self.gender = gender\n",
    "        self.age = age\n",
    "\n",
    "c1 = Customer()\n",
    "c1.addInfo('조영서', 'F', 20)\n",
    "print(c1.name[0], c1.gender, c1.age/2 )"
   ]
  },
  {
   "cell_type": "code",
   "execution_count": 48,
   "metadata": {
    "scrolled": true
   },
   "outputs": [
    {
     "ename": "TypeError",
     "evalue": "__init__() missing 1 required positional argument: 'dept'",
     "output_type": "error",
     "traceback": [
      "\u001b[1;31m---------------------------------------------------------------------------\u001b[0m",
      "\u001b[1;31mTypeError\u001b[0m                                 Traceback (most recent call last)",
      "\u001b[1;32m<ipython-input-48-120da1c13d09>\u001b[0m in \u001b[0;36m<module>\u001b[1;34m\u001b[0m\n\u001b[0;32m     14\u001b[0m \u001b[0mstu1\u001b[0m\u001b[1;33m.\u001b[0m\u001b[0muniv\u001b[0m \u001b[1;33m=\u001b[0m \u001b[1;34m'UCLA'\u001b[0m\u001b[1;33m\u001b[0m\u001b[1;33m\u001b[0m\u001b[0m\n\u001b[0;32m     15\u001b[0m \u001b[1;33m\u001b[0m\u001b[0m\n\u001b[1;32m---> 16\u001b[1;33m \u001b[0mstu2\u001b[0m \u001b[1;33m=\u001b[0m \u001b[0mStudent\u001b[0m\u001b[1;33m(\u001b[0m\u001b[1;33m)\u001b[0m\u001b[1;33m\u001b[0m\u001b[1;33m\u001b[0m\u001b[0m\n\u001b[0m\u001b[0;32m     17\u001b[0m \u001b[0mstu2\u001b[0m\u001b[1;33m.\u001b[0m\u001b[0maddInfo\u001b[0m\u001b[1;33m(\u001b[0m\u001b[1;36m3\u001b[0m\u001b[1;33m,\u001b[0m\u001b[1;34m'Jung'\u001b[0m\u001b[1;33m)\u001b[0m\u001b[1;33m\u001b[0m\u001b[1;33m\u001b[0m\u001b[0m\n\u001b[0;32m     18\u001b[0m \u001b[1;33m\u001b[0m\u001b[0m\n",
      "\u001b[1;31mTypeError\u001b[0m: __init__() missing 1 required positional argument: 'dept'"
     ]
    }
   ],
   "source": [
    "class Student:\n",
    "    univ = 'KHU'\n",
    "    def __init__ (self, dept):    #_ _init_ _는 생성자(constructor)이다.\n",
    "        self.dept = 'IE'\n",
    "    def addInfo(self, grade, name):\n",
    "        self.grade = grade\n",
    "        self.name = name\n",
    "    def printInfo(self):\n",
    "        return self.univ + \",\" + self.dept + \",\" + str(self.grade) + \",\" + self.name\n",
    "stu1 = Student('IE')  # 객체(object) 생성\n",
    "stu1.addInfo(2,'Kim') # method를 이용하여 값을 전달\n",
    "stu1.univ = 'UCLA'\n",
    "\n",
    "stu2 = Student()\n",
    "stu2.addInfo(3,'Jung')\n",
    "\n",
    "print (stu1.printInfo())\n",
    "print (stu2.printInfo())"
   ]
  },
  {
   "cell_type": "markdown",
   "metadata": {},
   "source": [
    "#### 생각해보기\n",
    "- Customer class를 만드시오.\n",
    "- Constructor를 만들지 마시오.\n",
    "- Field를 name, gender, age를 가질 수 있다.\n",
    "- Field의 세 값을 객체에 전달할 수 있는 method인 addInfo를 만드시오."
   ]
  },
  {
   "cell_type": "code",
   "execution_count": null,
   "metadata": {},
   "outputs": [],
   "source": [
    "class Customer:\n",
    "    \n",
    "    "
   ]
  }
 ],
 "metadata": {
  "kernelspec": {
   "display_name": "Python 3",
   "language": "python",
   "name": "python3"
  },
  "language_info": {
   "codemirror_mode": {
    "name": "ipython",
    "version": 3
   },
   "file_extension": ".py",
   "mimetype": "text/x-python",
   "name": "python",
   "nbconvert_exporter": "python",
   "pygments_lexer": "ipython3",
   "version": "3.7.6"
  }
 },
 "nbformat": 4,
 "nbformat_minor": 4
}
