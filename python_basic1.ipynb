{
  "cells": [
    {
      "cell_type": "markdown",
      "metadata": {
        "id": "view-in-github",
        "colab_type": "text"
      },
      "source": [
        "<a href=\"https://colab.research.google.com/github/jjyjung/python/blob/gh-pages/python_basic1.ipynb\" target=\"_parent\"><img src=\"https://colab.research.google.com/assets/colab-badge.svg\" alt=\"Open In Colab\"/></a>"
      ]
    },
    {
      "cell_type": "markdown",
      "metadata": {
        "id": "Zkvv4AK-5aBd"
      },
      "source": [
        "## Jupyter Notebook 간단 사용법\n",
        "### Cell 관리\n",
        "1. In [ ] 뒤에 있는 부분을 Cell이라고 부릅니다.\n",
        "1. Cell 위에 Cell을 추가할 때는 a를 누르고,<br>\n",
        "1. Cell 다음에 추가할 때는 b를 누르며,<br>\n",
        "Cell을 삭제할 때는 dd를 누릅니다.\n",
        "\n",
        "### Cell 실행\n",
        "- Cell 내에서 Ctrl + Enter\n",
        "- 여러 Cell을 선택한 후, Ctrl + Enter\n",
        "\n",
        "### Cell 실행\n",
        "- In [ ] 안의 숫자는 실행된 index를 의미합니다.\n",
        "- 만약 처음부터 다시 넘버링을 하고 싶다면, 메뉴 > 런타임 > '런타임 다시 시작' 한 이후에 '모두 실행'을 하거나,<br>\n",
        "또는 하나의 Cell 또는 여러 Cell을 선택한 후 재실행하면 됩니다. \n",
        "\n",
        "### Cell 타입\n",
        "- 주로 Code와 Markdown으로 구분하여 사용하면 됩니다. \n",
        "- Code는 Python 등의 소스 코드를 기입합니다.\n",
        "- Markdown은 간단한 HTML 생성 문법으로, 상세 사용법은 아래를 참조하시오.\n",
        "<br> https://namu.wiki/w/마크다운\n",
        "\n",
        "### Cell 위치 이동\n",
        "- 하나 또는 둘 이상의 Cell을 선택하여, 메뉴 아래의 상/하 화살표로 위치 이동 가능\n",
        "\n",
        "### 파일 저장 및 복구\n",
        "- 메뉴 > File > save & checkpoint 를 클릭합니다.\n",
        "- 메뉴 > File > rename 에서 파일명을 변경할 수 있습니다.\n",
        "- 아까 저장했던 버전으로 복구하려면, File > Revert to Checkpoint 에서 원하는 저장시간을 선택하시오."
      ]
    },
    {
      "cell_type": "markdown",
      "metadata": {
        "id": "_6C7TIjD5aBe"
      },
      "source": [
        "### 사칙연산"
      ]
    },
    {
      "cell_type": "code",
      "execution_count": 1,
      "metadata": {
        "scrolled": true,
        "id": "EvdUvvtr5aBf",
        "outputId": "c5658252-a85c-42c8-cb37-e00dc86391fb",
        "colab": {
          "base_uri": "https://localhost:8080/"
        }
      },
      "outputs": [
        {
          "output_type": "stream",
          "name": "stdout",
          "text": [
            "17\n",
            "9\n"
          ]
        }
      ],
      "source": [
        "#사칙연산을 설명합니다.\n",
        "#주석은 # 뒤에 기재하면 됩니다.\n",
        "a = 13\n",
        "b = 4 \n",
        "c = a + b\n",
        "d = a - b\n",
        "print (c)\n",
        "print (d) "
      ]
    },
    {
      "cell_type": "code",
      "execution_count": 2,
      "metadata": {
        "id": "sgBeYSpi5aBg",
        "outputId": "717e745e-3431-4999-a88b-9c62d136f861",
        "colab": {
          "base_uri": "https://localhost:8080/"
        }
      },
      "outputs": [
        {
          "output_type": "stream",
          "name": "stdout",
          "text": [
            "52\n",
            "3.25\n"
          ]
        }
      ],
      "source": [
        "print (a*b); print (a/b)\n",
        "#python에서 여러 문장을 한 줄에 쓸 때에는 semi-colon(;)을 쓸 수 있다."
      ]
    },
    {
      "cell_type": "code",
      "execution_count": 3,
      "metadata": {
        "id": "jaWcm1TN5aBg",
        "outputId": "ce5f920a-1e06-4cff-a5d7-bfcd7ff0f3f7",
        "colab": {
          "base_uri": "https://localhost:8080/"
        }
      },
      "outputs": [
        {
          "output_type": "stream",
          "name": "stdout",
          "text": [
            "3.5\n",
            "3\n",
            "1\n"
          ]
        }
      ],
      "source": [
        "print (7/2)\n",
        "print (7//2)  #몫\n",
        "print (7%2)   #나머지"
      ]
    },
    {
      "cell_type": "markdown",
      "metadata": {
        "id": "a9avxmzk5aBg"
      },
      "source": [
        "### 문자열"
      ]
    },
    {
      "cell_type": "code",
      "execution_count": 4,
      "metadata": {
        "id": "rkNgMHx65aBh",
        "outputId": "832e557d-77ff-4007-b63f-26dce329210b",
        "colab": {
          "base_uri": "https://localhost:8080/"
        }
      },
      "outputs": [
        {
          "output_type": "stream",
          "name": "stdout",
          "text": [
            "python, anaconda\n",
            "t\n",
            "py\n",
            "ana\n",
            "da\n"
          ]
        }
      ],
      "source": [
        "str1 = 'python'      #문자열은 작은따옴표 또는 큰따옴표 모두 가능\n",
        "str2 = \"anaconda\"\n",
        "print (str1 + \", \" + str2) #문자열 연결\n",
        "print (str1[2])    #문자 추출\n",
        "print (str1[0:2])  #문자 추출\n",
        "print (str2[:3])   #시작 index 생략\n",
        "print (str2[-2:])  #뒤에서 시작하여, 종료 index 생략"
      ]
    },
    {
      "cell_type": "code",
      "execution_count": 5,
      "metadata": {
        "id": "Cw8_vsQz5aBh",
        "outputId": "30c238e4-30f7-4b6c-b5b3-7685f8545c29",
        "colab": {
          "base_uri": "https://localhost:8080/"
        }
      },
      "outputs": [
        {
          "output_type": "stream",
          "name": "stdout",
          "text": [
            "I'm John's father.\n"
          ]
        }
      ],
      "source": [
        "str3 = \"I'm John's father.\"  #큰 따옴표 안에서 작은 따옴표는 문자로 인식됨\n",
        "print (str3)"
      ]
    },
    {
      "cell_type": "code",
      "execution_count": 6,
      "metadata": {
        "id": "IqtVdTXI5aBh",
        "outputId": "3928ce3c-8516-445d-9940-94f8af313085",
        "colab": {
          "base_uri": "https://localhost:8080/"
        }
      },
      "outputs": [
        {
          "output_type": "stream",
          "name": "stdout",
          "text": [
            "첫번째 줄\n",
            "두번째 줄\n",
            "세번째 줄\n",
            "'네'번째 줄\n",
            "'다섯'번째 줄\n",
            "'여섯'번째 줄\n"
          ]
        }
      ],
      "source": [
        "longStr1 = '''첫번째 줄\n",
        "두번째 줄\n",
        "세번째 줄'''\n",
        "longStr2 = \"\"\"\n",
        "'네'번째 줄\n",
        "'다섯'번째 줄\n",
        "'여섯'번째 줄\"\"\"\n",
        "print (longStr1 + longStr2)  #줄바꿈을 인식하는 긴 문자열"
      ]
    },
    {
      "cell_type": "markdown",
      "metadata": {
        "id": "pBTCSIZI5aBh"
      },
      "source": [
        "### 제어문"
      ]
    },
    {
      "cell_type": "code",
      "execution_count": 7,
      "metadata": {
        "id": "Sehsm_bv5aBi",
        "outputId": "de4e0fe9-6858-4d80-c53a-e2b4cee3502e",
        "colab": {
          "base_uri": "https://localhost:8080/"
        }
      },
      "outputs": [
        {
          "output_type": "stream",
          "name": "stdout",
          "text": [
            "num은 5와 같다\n"
          ]
        }
      ],
      "source": [
        "num = 5\n",
        "if num > 5:  #colon을 반드시!\n",
        "    print (str(num) + \"은 5보다 크다\")\n",
        "    #숫자를 문자로 바꿀 때, 내장함수 str()을 사용하거나\n",
        "elif num == 5:\n",
        "    print ('num' + \"은 5와 같다\")\n",
        "    #또는 ' ' 사용 가능\n",
        "elif num == 4:\n",
        "    print ('num' + \"은 4와 같다\")\n",
        "    #또는 ' ' 사용 가능\n",
        "else: \n",
        "    print (str(num) + \"은 5보다 작거나 같다\")"
      ]
    },
    {
      "cell_type": "code",
      "execution_count": 8,
      "metadata": {
        "id": "bDjEHVlY5aBi",
        "outputId": "a4369285-ae60-4d57-bc48-cf689713d3e8",
        "colab": {
          "base_uri": "https://localhost:8080/"
        }
      },
      "outputs": [
        {
          "output_type": "stream",
          "name": "stdout",
          "text": [
            "1\n",
            "2\n",
            "3\n",
            "range(0, 5)는 숫자입니다.\n",
            "3,4,5,6,7,\n",
            "100,101,102,104,105,106,107,"
          ]
        }
      ],
      "source": [
        "for i in [1,2,3]:    # 괄호 대신 들여쓰기\n",
        "    print (i)\n",
        "\n",
        "n = 5\n",
        "for i in [range(n)]:   # range는 [0,1,...,n-1]의 list(배열)을 만들어 주는 내장함수 [0,1,2,3,4]\n",
        "    print (str(i) + \"는\", \"숫자입니다.\")\n",
        "\n",
        "for i in range(3,8): # 3부터 8 직전까지 배열 생성 [3,4,5,6,7]\n",
        "    print (str(i), end=',')\n",
        "\n",
        "print()\n",
        "for i in range(100, 200):\n",
        "    if(i==103): \n",
        "      continue\n",
        "    print (i, end=',')\n",
        "    if(i==107): \n",
        "      break"
      ]
    },
    {
      "cell_type": "code",
      "execution_count": 9,
      "metadata": {
        "id": "JfYh0YzW5aBi",
        "outputId": "1d4c681d-1458-4078-9a4f-64cb2fc336c3",
        "colab": {
          "base_uri": "https://localhost:8080/"
        }
      },
      "outputs": [
        {
          "output_type": "stream",
          "name": "stdout",
          "text": [
            "0\n",
            "1\n",
            "3\n",
            "6\n",
            "10\n"
          ]
        }
      ],
      "source": [
        "i = 0\n",
        "sum = 0\n",
        "while i<5:\n",
        "    sum += i\n",
        "    print (sum)\n",
        "    i += 1      # i++, ++i 대신에 이렇게 표현해야 함."
      ]
    },
    {
      "cell_type": "markdown",
      "metadata": {
        "id": "L1azWGB45aBj"
      },
      "source": [
        "### 형변환"
      ]
    },
    {
      "cell_type": "code",
      "execution_count": 10,
      "metadata": {
        "id": "vpR9q_k85aBj",
        "outputId": "a83ccfc1-f842-48e9-98ef-8d220ac0eef6",
        "colab": {
          "base_uri": "https://localhost:8080/"
        }
      },
      "outputs": [
        {
          "output_type": "stream",
          "name": "stdout",
          "text": [
            "반지름 = 2\n",
            "12.56\n",
            "33.49333333333333\n"
          ]
        }
      ],
      "source": [
        "s = '3.14'    #문자열\n",
        "pi = float(s) #실수로 변환\n",
        "r = '2'\n",
        "rad = int(r) #정수로 변환\n",
        "print (\"반지름 = \" + str(rad)) #문자로 변환\n",
        "area = pi * (rad ** 2)  #a**b는 a^b를 계산해줌\n",
        "print (area)\n",
        "volume = 4/3 * pi * pow(rad,3)  #내장함수 pow(a,b)도 a^b를 계산해줌\n",
        "print (volume)"
      ]
    },
    {
      "cell_type": "markdown",
      "metadata": {
        "id": "7k--To3i5aBj"
      },
      "source": [
        "### 함수 정의"
      ]
    },
    {
      "cell_type": "code",
      "execution_count": 11,
      "metadata": {
        "id": "VvrL5wEm5aBj",
        "outputId": "6beaff3d-978a-4d67-9102-1cd272e5368e",
        "colab": {
          "base_uri": "https://localhost:8080/"
        }
      },
      "outputs": [
        {
          "output_type": "stream",
          "name": "stdout",
          "text": [
            "3\n",
            "1\n"
          ]
        }
      ],
      "source": [
        "def sum(a, b): \n",
        "    return a+b\n",
        "\n",
        "def subtract(a, b):\n",
        "    return a-b\n",
        "\n",
        "print (sum(2, 1))\n",
        "print (subtract(2, 1))"
      ]
    },
    {
      "cell_type": "markdown",
      "metadata": {
        "id": "1U7ubPJ65aBk"
      },
      "source": [
        "### List, Tuple, Set, Dictionary"
      ]
    },
    {
      "cell_type": "code",
      "execution_count": 12,
      "metadata": {
        "id": "0ELw_Cqc5aBk",
        "outputId": "2ca518b0-73d8-42df-8188-00e30bf1903f",
        "colab": {
          "base_uri": "https://localhost:8080/"
        }
      },
      "outputs": [
        {
          "output_type": "stream",
          "name": "stdout",
          "text": [
            "3\n",
            "length =  3\n",
            "7\n",
            "3\n",
            "6\n"
          ]
        }
      ],
      "source": [
        "ary = [7,3,6]  #list\n",
        "print(ary[1])\n",
        "print('length = ', len(ary))\n",
        "for i in range(len(ary)):  # range(3) = [0,1,2]\n",
        "    print (ary[i])"
      ]
    },
    {
      "cell_type": "code",
      "execution_count": 13,
      "metadata": {
        "id": "SaIoy-1a5aBl",
        "outputId": "e4f41f2e-e9e7-4f3c-825b-17c588b5ae54",
        "colab": {
          "base_uri": "https://localhost:8080/"
        }
      },
      "outputs": [
        {
          "output_type": "stream",
          "name": "stdout",
          "text": [
            "[7, 3, 6, 'k']\n",
            "[3, 6]\n"
          ]
        }
      ],
      "source": [
        "ary.append('k')\n",
        "print (ary)\n",
        "print (ary[1:-1])  #ary의 index 1부터 끝에서 -1 직전까지 출력"
      ]
    },
    {
      "cell_type": "code",
      "execution_count": 14,
      "metadata": {
        "id": "qKZO74lv5aBl",
        "outputId": "f1e913cc-17fb-4d79-95e4-c267700d3ad3",
        "colab": {
          "base_uri": "https://localhost:8080/"
        }
      },
      "outputs": [
        {
          "output_type": "stream",
          "name": "stdout",
          "text": [
            "[7, 17, 3, 6, 'k']\n"
          ]
        }
      ],
      "source": [
        "ary.insert(1,17)\n",
        "print (ary[:])"
      ]
    },
    {
      "cell_type": "code",
      "execution_count": 15,
      "metadata": {
        "id": "S1QecwRA5aBl",
        "outputId": "6128ab80-0776-4539-9479-aa43a095ef39",
        "colab": {
          "base_uri": "https://localhost:8080/"
        }
      },
      "outputs": [
        {
          "output_type": "stream",
          "name": "stdout",
          "text": [
            "k [7, 17, 3, 6]\n",
            "17 [7, 3, 6]\n"
          ]
        }
      ],
      "source": [
        "p1 = ary.pop()\n",
        "print (p1, ary)\n",
        "p2 = ary.pop(1)\n",
        "print (p2, ary)"
      ]
    },
    {
      "cell_type": "code",
      "execution_count": 16,
      "metadata": {
        "id": "T9Vc9tCU5aBl",
        "colab": {
          "base_uri": "https://localhost:8080/"
        },
        "outputId": "2b34f629-73fe-4ac8-f390-cb6ed68d7d96"
      },
      "outputs": [
        {
          "output_type": "stream",
          "name": "stdout",
          "text": [
            "[7, 3, 6]\n"
          ]
        }
      ],
      "source": [
        "print(ary)\n",
        "if 'k' in ary:    #ary 내에 'k'가 존재하는지 확인하는 조건문\n",
        "    ary.remove('k')  #'k'를 하나 삭제함\n",
        "    print (ary[:])"
      ]
    },
    {
      "cell_type": "code",
      "execution_count": 17,
      "metadata": {
        "id": "z8eheiKb5aBm",
        "outputId": "51d51b49-29b6-4371-9f46-3d1c82348035",
        "colab": {
          "base_uri": "https://localhost:8080/"
        }
      },
      "outputs": [
        {
          "output_type": "stream",
          "name": "stdout",
          "text": [
            "[3, 6, 7]\n"
          ]
        }
      ],
      "source": [
        "ary.sort()\n",
        "print (ary)"
      ]
    },
    {
      "cell_type": "code",
      "execution_count": 18,
      "metadata": {
        "id": "dwPgG12f5aBm",
        "outputId": "5ac22e9c-058f-4e30-e78c-5f89ac3d3f60",
        "colab": {
          "base_uri": "https://localhost:8080/"
        }
      },
      "outputs": [
        {
          "output_type": "stream",
          "name": "stdout",
          "text": [
            "1\n",
            "5\n",
            "6\n"
          ]
        }
      ],
      "source": [
        "li = [[1,2],[3,4,5],6]  #다차원 리스트\n",
        "print (li[0][0])\n",
        "print (li[1][2])\n",
        "print (li[2])"
      ]
    },
    {
      "cell_type": "code",
      "execution_count": 19,
      "metadata": {
        "id": "D0PgSBJa5aBm",
        "outputId": "0971b458-f0ff-4646-9677-1e102f28c634",
        "colab": {
          "base_uri": "https://localhost:8080/"
        }
      },
      "outputs": [
        {
          "output_type": "stream",
          "name": "stdout",
          "text": [
            "3\n",
            "(5, 7)\n"
          ]
        }
      ],
      "source": [
        "t1 = (1,3,5,7)   #Tuple(튜플): list와 달리 크기가 고정됨\n",
        "print (t1[1])\n",
        "print (t1[2:4])"
      ]
    },
    {
      "cell_type": "code",
      "execution_count": 20,
      "metadata": {
        "id": "MpHM1EeI5aBm",
        "outputId": "479b0fde-6d3d-4126-bb8f-840d0c523602",
        "colab": {
          "base_uri": "https://localhost:8080/"
        }
      },
      "outputs": [
        {
          "output_type": "stream",
          "name": "stdout",
          "text": [
            "{1, 2, 3, 6}\n",
            "{3, 6, 7}\n",
            "{1, 3, 5, 7}\n"
          ]
        }
      ],
      "source": [
        "s1 = {1, 2, 3, 1, 2, 6}  #Set(집합)은 중복 무시\n",
        "print (s1)\n",
        "s2 = set(ary)\n",
        "print (s2)\n",
        "s3 = set(t1)\n",
        "print (s3)"
      ]
    },
    {
      "cell_type": "code",
      "execution_count": 21,
      "metadata": {
        "id": "82eY5XZl5aBn",
        "outputId": "3afb3925-d984-4bcf-8082-22323b7bbcc3",
        "colab": {
          "base_uri": "https://localhost:8080/"
        }
      },
      "outputs": [
        {
          "output_type": "stream",
          "name": "stdout",
          "text": [
            "{'e', 'l', 'o', 'H'}\n"
          ]
        }
      ],
      "source": [
        "s4 = set(\"Hello\")\n",
        "print (s4)"
      ]
    },
    {
      "cell_type": "code",
      "execution_count": 22,
      "metadata": {
        "id": "dFk3pi9b5aBn",
        "outputId": "c6e99f2a-41c6-4ae7-e4c7-8aabc5caf304",
        "colab": {
          "base_uri": "https://localhost:8080/"
        }
      },
      "outputs": [
        {
          "output_type": "stream",
          "name": "stdout",
          "text": [
            "kim의 2학년이고 20세입니다.\n"
          ]
        }
      ],
      "source": [
        "dic = {'name':'kim', 'grade':2, 'age':20}  #dictionary : key, value의 쌍을 저장하는 자료구조\n",
        "print (dic['name'] + \"의 \" + str(dic['grade']) + \"학년이고 \" + str(dic['age']) + \"세입니다.\")\n",
        "#Dictionary(사전)은 key-value 쌍을 저장하는 자료구조 입니다."
      ]
    },
    {
      "cell_type": "markdown",
      "metadata": {
        "id": "48Zj-Mw45aBn"
      },
      "source": [
        "### Class"
      ]
    },
    {
      "cell_type": "code",
      "execution_count": 23,
      "metadata": {
        "id": "lJAWRHwm5aBn",
        "outputId": "93f41278-7a01-45b1-a661-c2972644d66a",
        "colab": {
          "base_uri": "https://localhost:8080/"
        }
      },
      "outputs": [
        {
          "output_type": "stream",
          "name": "stdout",
          "text": [
            "조 F 10.0\n"
          ]
        }
      ],
      "source": [
        "class Customer:\n",
        "    name = ''\n",
        "    age = ''\n",
        "    gender = ''\n",
        "    def add_info(self, name, gender, age):\n",
        "        self.name = name\n",
        "        self.gender = gender\n",
        "        self.age = age\n",
        "\n",
        "c1 = Customer()\n",
        "c1.add_info('조영서', 'F', 20)\n",
        "print(c1.name[0], c1.gender, c1.age/2 )"
      ]
    },
    {
      "cell_type": "code",
      "execution_count": 24,
      "metadata": {
        "scrolled": true,
        "id": "veCt1Bzs5aBn",
        "outputId": "79b63d9b-5459-4436-c6dd-0ae83fca6522",
        "colab": {
          "base_uri": "https://localhost:8080/"
        }
      },
      "outputs": [
        {
          "output_type": "stream",
          "name": "stdout",
          "text": [
            "self.dept =  CE\n",
            "UCLA,CE,2,Kim\n",
            "self.dept =  IE\n",
            "KHU,IE,3,Jung\n"
          ]
        }
      ],
      "source": [
        "class Student:\n",
        "    univ = 'KHU'\n",
        "    grade = 1\n",
        "    name = None\n",
        "    def __init__ (self, dept='IE'):    #_ _init_ _는 생성자(constructor)이다.\n",
        "        self.dept = dept\n",
        "    def add_info(self, grade, name):\n",
        "        self.grade = grade\n",
        "        self.name = name\n",
        "    def print_info(self):\n",
        "        print('self.dept = ', self.dept)\n",
        "        return self.univ + \",\" + self.dept + \",\" + str(self.grade) + \",\" + self.name\n",
        "\n",
        "stu1 = Student('CE')  # 객체(object) 생성\n",
        "stu1.add_info(2,'Kim') # method를 이용하여 값을 전달\n",
        "stu1.univ = 'UCLA'\n",
        "print (stu1.print_info())\n",
        "\n",
        "stu2 = Student()\n",
        "stu2.add_info(3,'Jung')\n",
        "print (stu2.print_info())"
      ]
    },
    {
      "cell_type": "markdown",
      "metadata": {
        "id": "0y31Sq3G5aBo"
      },
      "source": [
        "#### 생각해보기\n",
        "- Customer class를 만드시오.\n",
        "- Constructor를 만들지 마시오.\n",
        "- Field를 name, gender, age를 가질 수 있다.\n",
        "- Field의 세 값을 객체에 전달할 수 있는 method인 set_info를 만드시오."
      ]
    },
    {
      "cell_type": "code",
      "execution_count": 25,
      "metadata": {
        "id": "jpP3FyUW5aBo"
      },
      "outputs": [],
      "source": [
        "class Customer:\n",
        "    pass"
      ]
    }
  ],
  "metadata": {
    "kernelspec": {
      "display_name": "Python 3",
      "language": "python",
      "name": "python3"
    },
    "language_info": {
      "codemirror_mode": {
        "name": "ipython",
        "version": 3
      },
      "file_extension": ".py",
      "mimetype": "text/x-python",
      "name": "python",
      "nbconvert_exporter": "python",
      "pygments_lexer": "ipython3",
      "version": "3.7.6"
    },
    "colab": {
      "provenance": [],
      "collapsed_sections": [],
      "include_colab_link": true
    }
  },
  "nbformat": 4,
  "nbformat_minor": 0
}